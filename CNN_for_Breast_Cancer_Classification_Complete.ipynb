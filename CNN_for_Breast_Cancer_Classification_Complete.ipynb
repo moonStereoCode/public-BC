{
  "cells": [
    {
      "cell_type": "markdown",
      "metadata": {
        "id": "view-in-github",
        "colab_type": "text"
      },
      "source": [
        "<a href=\"https://colab.research.google.com/github/moonStereoCode/public-BC/blob/main/CNN_for_Breast_Cancer_Classification_Complete.ipynb\" target=\"_parent\"><img src=\"https://colab.research.google.com/assets/colab-badge.svg\" alt=\"Open In Colab\"/></a>"
      ]
    },
    {
      "cell_type": "markdown",
      "metadata": {
        "id": "U7_0AvA_Yjiy"
      },
      "source": [
        "# Set Up"
      ]
    },
    {
      "cell_type": "markdown",
      "metadata": {
        "id": "-DqTsxTljb4T"
      },
      "source": [
        "***PREPARATION***"
      ]
    },
    {
      "cell_type": "code",
      "execution_count": null,
      "metadata": {
        "id": "JzwPjUkojFaE"
      },
      "outputs": [],
      "source": [
        "#import dataset, mounting drive\n",
        "from google.colab import drive\n",
        "drive.mount(\"/content/gdrive\")"
      ]
    },
    {
      "cell_type": "code",
      "execution_count": null,
      "metadata": {
        "id": "Zrvo_Io9qGtK"
      },
      "outputs": [],
      "source": [
        "#download & install lib for preprocessing\n",
        "!pip install Pillow\n",
        "from PIL import Image\n",
        "import os, sys\n",
        "import cv2\n",
        "import numpy as np\n",
        "import tensorflow as tf\n"
      ]
    },
    {
      "cell_type": "markdown",
      "metadata": {
        "id": "VyEig5I9YWzF"
      },
      "source": [
        "# Preprocessing"
      ]
    },
    {
      "cell_type": "markdown",
      "metadata": {
        "id": "pHF-yEV4qQmx"
      },
      "source": [
        "***RESIZE***"
      ]
    },
    {
      "cell_type": "code",
      "execution_count": null,
      "metadata": {
        "id": "b6xUNxeRqNYJ"
      },
      "outputs": [],
      "source": [
        "#fetching image from Googledrive folder & resize it (cancer dataset)\n",
        "path_cancer = r'/content/gdrive/My Drive/SKRIPSI/Dataset/cancer_dataset/'\n",
        "path_cancer_target =  '/content/gdrive/My Drive/SKRIPSI/Dataset/Scaling/cancer_dataset/'\n",
        "\n",
        "def resize_cancer():\n",
        "  for filename in os.listdir(path_cancer):\n",
        "    img = Image.open(os.path.join(path_cancer,filename))\n",
        "    img = img.resize((200,300), Image.ANTIALIAS)\n",
        "    img.save(path_cancer_target+\"Resized_\"+filename)"
      ]
    },
    {
      "cell_type": "code",
      "execution_count": null,
      "metadata": {
        "id": "dpO6ROWMts_e"
      },
      "outputs": [],
      "source": [
        "resize_cancer()"
      ]
    },
    {
      "cell_type": "code",
      "execution_count": null,
      "metadata": {
        "id": "eyhG93a-2oz2"
      },
      "outputs": [],
      "source": [
        "#fetching image from Googledrive folder & resize it (normal dataset)\n",
        "path_normal = r'/content/gdrive/My Drive/SKRIPSI/Dataset/normal_dataset/'\n",
        "path_normal_target =  '/content/gdrive/My Drive/SKRIPSI/Dataset/Scaling/normal_dataset/'\n",
        "\n",
        "def resize_normal():\n",
        "  for filename in os.listdir(path_normal):\n",
        "    img = Image.open(os.path.join(path_normal,filename))\n",
        "    img = img.resize((200,300), Image.ANTIALIAS)\n",
        "    img.save(path_normal_target+\"Resized_\"+filename)"
      ]
    },
    {
      "cell_type": "code",
      "execution_count": null,
      "metadata": {
        "id": "0tTsve8V28Gq"
      },
      "outputs": [],
      "source": [
        "resize_normal()"
      ]
    },
    {
      "cell_type": "markdown",
      "metadata": {
        "id": "9nY095YAY0Pc"
      },
      "source": [
        "***CLAHE***"
      ]
    },
    {
      "cell_type": "code",
      "execution_count": null,
      "metadata": {
        "id": "g4Bk29_045zA"
      },
      "outputs": [],
      "source": [
        "#CLAHE Cancer Dataset\n",
        "folder_cancer = '/content/gdrive/My Drive/SKRIPSI/Dataset/Scaling/cancer_dataset/'\n",
        "\n",
        "def clahe_cancer():\n",
        "  for filename in os.listdir(folder_cancer):\n",
        "    img = cv2.imread(os.path.join(folder_cancer, filename), 0)\n",
        "    clahe = cv2.createCLAHE(clipLimit =3.0, tileGridSize=(8,8))\n",
        "    cl_img = clahe.apply(img)\n",
        "    cv2.imwrite(os.path.join('/content/gdrive/My Drive/SKRIPSI/Dataset/CLAHE/cancer_dataset/', \"CLAHE_\"+filename),cl_img)"
      ]
    },
    {
      "cell_type": "code",
      "execution_count": null,
      "metadata": {
        "id": "JtMq1ZYE5DRf"
      },
      "outputs": [],
      "source": [
        "clahe_cancer()"
      ]
    },
    {
      "cell_type": "code",
      "execution_count": null,
      "metadata": {
        "id": "otzYLQkp-M_V"
      },
      "outputs": [],
      "source": [
        "#CLAHE normal Dataset\n",
        "folder_normal = '/content/gdrive/My Drive/SKRIPSI/Dataset/Scaling/normal_dataset/'\n",
        "\n",
        "def clahe_normal():\n",
        "  for filename in os.listdir(folder_normal):\n",
        "    img = cv2.imread(os.path.join(folder_normal, filename), 0)\n",
        "    clahe = cv2.createCLAHE(clipLimit =3.0, tileGridSize=(8,8))\n",
        "    cl_img = clahe.apply(img)\n",
        "    cv2.imwrite(os.path.join('/content/gdrive/My Drive/SKRIPSI/Dataset/CLAHE/normal_dataset/', \"CLAHE_\"+filename),cl_img)"
      ]
    },
    {
      "cell_type": "code",
      "execution_count": null,
      "metadata": {
        "id": "-FFdvnMV-fEp"
      },
      "outputs": [],
      "source": [
        "clahe_normal()"
      ]
    },
    {
      "cell_type": "markdown",
      "metadata": {
        "id": "3O0omrW7_EbU"
      },
      "source": [
        "***THRESHOLDING***"
      ]
    },
    {
      "cell_type": "code",
      "execution_count": null,
      "metadata": {
        "id": "CcCQE3Tg_sBy"
      },
      "outputs": [],
      "source": [
        "#THRESHOLDING for CANCER Dataset\n",
        "dir_cancer = '/content/gdrive/My Drive/SKRIPSI/Dataset/CLAHE/cancer_dataset/'\n",
        "\n",
        "def threshold_cancer():\n",
        "  for filename in os.listdir(dir_cancer):\n",
        "    img = cv2.imread(os.path.join(dir_cancer, filename))\n",
        "    GrayImage=cv2.cvtColor(img,cv2.COLOR_BGR2GRAY)\n",
        "    ret,thresh=cv2.threshold(GrayImage,85,255,cv2.THRESH_BINARY_INV)\n",
        "    cv2.imwrite(os.path.join('/content/gdrive/My Drive/SKRIPSI/Dataset/Thresholded/cancer_dataset/', \"THRESHOLD_ \" + filename),thresh)"
      ]
    },
    {
      "cell_type": "code",
      "execution_count": null,
      "metadata": {
        "id": "AjNLZISvANwy"
      },
      "outputs": [],
      "source": [
        "threshold_cancer()"
      ]
    },
    {
      "cell_type": "code",
      "execution_count": null,
      "metadata": {
        "id": "IFqo2YBaClHK"
      },
      "outputs": [],
      "source": [
        "#THRESHOLDING for NORMAL Dataset\n",
        "dir_normal = '/content/gdrive/My Drive/SKRIPSI/Dataset/CLAHE/normal_dataset/'\n",
        "\n",
        "def threshold_normal():\n",
        "  for filename in os.listdir(dir_normal):\n",
        "    img = cv2.imread(os.path.join(dir_normal, filename))\n",
        "    GrayImage=cv2.cvtColor(img,cv2.COLOR_BGR2GRAY)\n",
        "    ret,thresh=cv2.threshold(GrayImage,85,255,cv2.THRESH_BINARY_INV)\n",
        "    cv2.imwrite(os.path.join('/content/gdrive/My Drive/SKRIPSI/Dataset/Thresholded/normal_dataset/', \"THRESHOLD_ \" + filename),thresh)"
      ]
    },
    {
      "cell_type": "code",
      "execution_count": null,
      "metadata": {
        "id": "udv1I7SjC4Xu"
      },
      "outputs": [],
      "source": [
        "threshold_normal()"
      ]
    },
    {
      "cell_type": "markdown",
      "metadata": {
        "id": "5aM3iI-fY9uQ"
      },
      "source": [
        "# Classification"
      ]
    },
    {
      "cell_type": "code",
      "execution_count": null,
      "metadata": {
        "colab": {
          "base_uri": "https://localhost:8080/"
        },
        "id": "xgdOmDyfYWUy",
        "outputId": "97ac4ad5-cd9a-442c-e2f3-b35b8238e320"
      },
      "outputs": [
        {
          "output_type": "stream",
          "name": "stdout",
          "text": [
            "Collecting split-folders\n",
            "  Downloading split_folders-0.4.3-py3-none-any.whl (7.4 kB)\n",
            "Requirement already satisfied: tqdm in /usr/local/lib/python3.7/dist-packages (4.62.3)\n",
            "Installing collected packages: split-folders\n",
            "Successfully installed split-folders-0.4.3\n"
          ]
        }
      ],
      "source": [
        "# SET UP : download and install lib for CNN Models\n",
        "!pip install split-folders tqdm\n",
        "import splitfolders\n",
        "from keras.models import Sequential\n",
        "from keras.layers import Conv2D\n",
        "from keras.layers import MaxPooling2D \n",
        "from keras.layers import Flatten\n",
        "from keras.layers import Dense\n",
        "from keras.preprocessing.image import image\n",
        "from keras.preprocessing.image import ImageDataGenerator"
      ]
    },
    {
      "cell_type": "code",
      "execution_count": null,
      "metadata": {
        "colab": {
          "base_uri": "https://localhost:8080/"
        },
        "id": "LFb9m22aElJJ",
        "outputId": "81676c49-53a1-4686-9a13-b1e4bf15cbd4"
      },
      "outputs": [
        {
          "name": "stdout",
          "output_type": "stream",
          "text": [
            "Model: \"sequential\"\n",
            "_________________________________________________________________\n",
            " Layer (type)                Output Shape              Param #   \n",
            "=================================================================\n",
            " conv2d (Conv2D)             (None, 198, 298, 64)      1792      \n",
            "                                                                 \n",
            " max_pooling2d (MaxPooling2D  (None, 99, 149, 64)      0         \n",
            " )                                                               \n",
            "                                                                 \n",
            " conv2d_1 (Conv2D)           (None, 97, 147, 64)       36928     \n",
            "                                                                 \n",
            " max_pooling2d_1 (MaxPooling  (None, 48, 73, 64)       0         \n",
            " 2D)                                                             \n",
            "                                                                 \n",
            " flatten (Flatten)           (None, 224256)            0         \n",
            "                                                                 \n",
            " dense (Dense)               (None, 128)               28704896  \n",
            "                                                                 \n",
            " dense_1 (Dense)             (None, 10)                1290      \n",
            "                                                                 \n",
            "=================================================================\n",
            "Total params: 28,744,906\n",
            "Trainable params: 28,744,906\n",
            "Non-trainable params: 0\n",
            "_________________________________________________________________\n"
          ]
        }
      ],
      "source": [
        "# Building Model\n",
        "model1 = tf.keras.models.Sequential([\n",
        "  #layer convolutional 1\n",
        "  tf.keras.layers.Conv2D(64, (3,3), activation='relu', input_shape=(200, 300, 3 )),\n",
        "  tf.keras.layers.MaxPooling2D(2,2),\n",
        "\n",
        "  #layer convolutional 2\n",
        "  tf.keras.layers.Conv2D(64, (3,3), activation='relu'),\n",
        "  tf.keras.layers.MaxPooling2D(2,2),\n",
        "\n",
        "  tf.keras.layers.Flatten(),\n",
        "  tf.keras.layers.Dense(128, activation='relu'),\n",
        "  tf.keras.layers.Dense(10, activation=\"softmax\")\n",
        "])\n",
        "\n",
        "model1.compile(optimizer='adam', loss='sparse_categorical_crossentropy', metrics=['accuracy'])\n",
        "model1.summary()"
      ]
    },
    {
      "cell_type": "code",
      "execution_count": null,
      "metadata": {
        "id": "Qsl3y2Wczpjl"
      },
      "outputs": [],
      "source": [
        "# Building Model\n",
        "model1_1 = tf.keras.models.Sequential([\n",
        "  #layer convolutional 1\n",
        "  tf.keras.layers.Conv2D(64, (3,3), activation='relu', input_shape=(200, 300, 3 )),\n",
        "  tf.keras.layers.MaxPooling2D(2,2),\n",
        "\n",
        "  #layer convolutional 2\n",
        "  tf.keras.layers.Conv2D(64, (3,3), activation='relu'),\n",
        "  tf.keras.layers.MaxPooling2D(2,2),\n",
        "\n",
        "  tf.keras.layers.Flatten(),\n",
        "  tf.keras.layers.Dense(128, activation='relu'),\n",
        "  tf.keras.layers.Dense(10, activation=\"softmax\")\n",
        "])\n",
        "\n",
        "model1_1.compile(optimizer='SGD', loss='sparse_categorical_crossentropy', metrics=['accuracy'])\n",
        "model1_1.summary()"
      ]
    },
    {
      "cell_type": "code",
      "execution_count": null,
      "metadata": {
        "id": "qzplsD8mi6Mu"
      },
      "outputs": [],
      "source": [
        "model2 = tf.keras.models.Sequential([\n",
        "  #layer convolutional 1\n",
        "  tf.keras.layers.Conv2D(64, (3,3), activation='sigmoid', input_shape=(200, 300, 3)),\n",
        "  tf.keras.layers.MaxPooling2D(2,2),\n",
        "\n",
        "  #layer convolutional 2\n",
        "  tf.keras.layers.Conv2D(64, (3,3), activation='sigmoid', input_shape=(200, 300, 3)),\n",
        "  tf.keras.layers.MaxPooling2D(2,2),\n",
        "\n",
        "  tf.keras.layers.Flatten(),\n",
        "  tf.keras.layers.Dense(128, activation='relu'),\n",
        "  tf.keras.layers.Dense(10, activation=\"softmax\")\n",
        "])\n",
        "model2.compile(optimizer='adam', loss='sparse_categorical_crossentropy', metrics=['accuracy'])\n",
        "model2.summary()"
      ]
    },
    {
      "cell_type": "code",
      "execution_count": null,
      "metadata": {
        "colab": {
          "base_uri": "https://localhost:8080/"
        },
        "id": "fKt8gpReeoM-",
        "outputId": "b86ae6bb-16b2-4cb2-d43d-0443aaa17b99"
      },
      "outputs": [
        {
          "output_type": "stream",
          "name": "stdout",
          "text": [
            "Model: \"sequential_1\"\n",
            "_________________________________________________________________\n",
            " Layer (type)                Output Shape              Param #   \n",
            "=================================================================\n",
            " conv2d_4 (Conv2D)           (None, 200, 300, 64)      832       \n",
            "                                                                 \n",
            " max_pooling2d_4 (MaxPooling  (None, 100, 150, 64)     0         \n",
            " 2D)                                                             \n",
            "                                                                 \n",
            " conv2d_5 (Conv2D)           (None, 98, 148, 64)       36928     \n",
            "                                                                 \n",
            " max_pooling2d_5 (MaxPooling  (None, 49, 74, 64)       0         \n",
            " 2D)                                                             \n",
            "                                                                 \n",
            " conv2d_6 (Conv2D)           (None, 47, 72, 64)        36928     \n",
            "                                                                 \n",
            " max_pooling2d_6 (MaxPooling  (None, 23, 36, 64)       0         \n",
            " 2D)                                                             \n",
            "                                                                 \n",
            " flatten_1 (Flatten)         (None, 52992)             0         \n",
            "                                                                 \n",
            " dense_3 (Dense)             (None, 64)                3391552   \n",
            "                                                                 \n",
            " dense_4 (Dense)             (None, 64)                4160      \n",
            "                                                                 \n",
            " dense_5 (Dense)             (None, 1)                 65        \n",
            "                                                                 \n",
            "=================================================================\n",
            "Total params: 3,470,465\n",
            "Trainable params: 3,470,465\n",
            "Non-trainable params: 0\n",
            "_________________________________________________________________\n"
          ]
        }
      ],
      "source": [
        "# Building Model\n",
        "model3 = tf.keras.models.Sequential([\n",
        "  #layer convolutional 1\n",
        "  tf.keras.layers.Conv2D(64, (2,2), activation='relu', padding=\"same\", input_shape=(200, 300, 3 )),\n",
        "  tf.keras.layers.MaxPooling2D(2,2),\n",
        "\n",
        "  #layer convolutional 2\n",
        "  #tf.keras.layers.Conv2D(64, (2,2), activation='relu'),\n",
        "  #tf.keras.layers.MaxPooling2D(2,2),\n",
        "\n",
        "  #layer convolutional 3\n",
        "  tf.keras.layers.Conv2D(64, (3,3), activation='relu'),\n",
        "  tf.keras.layers.MaxPooling2D(2,2),\n",
        "\n",
        "  #layer convolutional 3\n",
        "  tf.keras.layers.Conv2D(64, (3,3), activation='relu'),\n",
        "  tf.keras.layers.MaxPooling2D(2,2),\n",
        "\n",
        "  tf.keras.layers.Flatten(),\n",
        "  tf.keras.layers.Dense(64, activation='relu'),\n",
        "  tf.keras.layers.Dense(64, activation='relu'),\n",
        "  tf.keras.layers.Dense(1, activation=\"softmax\", )\n",
        "])\n",
        "\n",
        "model3.compile(optimizer='adam', loss='binary_crossentropy', metrics=['accuracy'])\n",
        "model3.summary()"
      ]
    },
    {
      "cell_type": "code",
      "execution_count": null,
      "metadata": {
        "id": "Z7uoXCu2EP4l"
      },
      "outputs": [],
      "source": [
        "model4 = tf.keras.models.Sequential([\n",
        "  #layer convolutional 1\n",
        "  tf.keras.layers.Conv2D(64, (3,3), activation='tanh', input_shape=(200, 300, 3 )),\n",
        "  tf.keras.layers.MaxPooling2D(2,2),\n",
        "\n",
        "  #layer convolutional 2\n",
        "  tf.keras.layers.Conv2D(64, (3,3), activation='tanh'),\n",
        "  tf.keras.layers.MaxPooling2D(2,2),\n",
        "\n",
        "  tf.keras.layers.Flatten(),\n",
        "  tf.keras.layers.Dense(128, activation='relu'),\n",
        "  tf.keras.layers.Dense(10, activation=\"softmax\")\n",
        "])\n",
        "\n",
        "model4.compile(optimizer='adam', loss='sparse_categorical_crossentropy', metrics=['accuracy'])\n",
        "model4.summary()"
      ]
    },
    {
      "cell_type": "markdown",
      "metadata": {
        "id": "G4pLwxiId5FJ"
      },
      "source": [
        "# ***CLASSIFICATION CASE 1***"
      ]
    },
    {
      "cell_type": "markdown",
      "metadata": {
        "id": "Dwu2S3RSDPEa"
      },
      "source": [
        "***CLASSIFICATION CASE 1***\n",
        "\n",
        "Classification in raw image\n",
        "\n"
      ]
    },
    {
      "cell_type": "code",
      "execution_count": null,
      "metadata": {
        "colab": {
          "base_uri": "https://localhost:8080/"
        },
        "id": "Y9e6oRpii9rf",
        "outputId": "42e5ae18-03bd-460f-f094-c32eeb2cfdb7"
      },
      "outputs": [
        {
          "name": "stderr",
          "output_type": "stream",
          "text": [
            "Copying files: 1200 files [00:24, 48.78 files/s]\n"
          ]
        }
      ],
      "source": [
        "# Split Data to training and validation \n",
        "input_folder='/content/gdrive/My Drive/SKRIPSI/Dataset/root/'\n",
        "output_folder='/content/gdrive/My Drive/SKRIPSI/Dataset/cnn_1'\n",
        "splitfolders.ratio(input_folder, output=output_folder, seed=133, ratio=(.8, .2), group_prefix=None) "
      ]
    },
    {
      "cell_type": "code",
      "execution_count": null,
      "metadata": {
        "colab": {
          "base_uri": "https://localhost:8080/"
        },
        "id": "YsutL_uXyNSd",
        "outputId": "8a42014f-3900-49b2-ffd5-5d4c62cc5fc4"
      },
      "outputs": [
        {
          "name": "stdout",
          "output_type": "stream",
          "text": [
            "Found 960 images belonging to 2 classes.\n",
            "Found 240 images belonging to 2 classes.\n"
          ]
        }
      ],
      "source": [
        "# Fitting the data to the model\n",
        "train_datagen = ImageDataGenerator(rescale= 1./255, shear_range= 0.2, zoom_range= 0.2, horizontal_flip= True)\n",
        "test_datagen = ImageDataGenerator(rescale= 1./255)\n",
        "\n",
        "training_set = train_datagen.flow_from_directory('/content/gdrive/My Drive/SKRIPSI/Dataset/cnn_1/train/',\n",
        "target_size = (200,300),\n",
        "batch_size = 32,\n",
        "class_mode = 'binary')\n",
        "\n",
        "test_set = test_datagen.flow_from_directory('/content/gdrive/My Drive/SKRIPSI/Dataset/cnn_1/val/',\n",
        "target_size = (200,300),\n",
        "batch_size = 32,\n",
        "class_mode = 'binary')"
      ]
    },
    {
      "cell_type": "code",
      "execution_count": null,
      "metadata": {
        "id": "WiWXG3jW21Tx"
      },
      "outputs": [],
      "source": [
        "model1.fit(training_set, epochs=40, batch_size=8, validation_data = test_set)\n",
        "#model1.save(\"/content/gdrive/My Drive/SKRIPSI/model1_raw.h5\")"
      ]
    },
    {
      "cell_type": "code",
      "execution_count": null,
      "metadata": {
        "id": "b3dLCREv0nKk"
      },
      "outputs": [],
      "source": [
        "model1_1.fit(training_set, epochs=20, batch_size=8, validation_data = test_set)"
      ]
    },
    {
      "cell_type": "code",
      "execution_count": null,
      "metadata": {
        "id": "HGTnAHeZ-sjZ"
      },
      "outputs": [],
      "source": [
        "model2.fit(training_set, epochs=20, batch_size=8, validation_data = test_set)"
      ]
    },
    {
      "cell_type": "code",
      "execution_count": null,
      "metadata": {
        "id": "Qm0ihlInfQeA"
      },
      "outputs": [],
      "source": [
        "model3.fit(training_set, epochs=30, batch_size=8, validation_data = test_set)\n",
        "model3.save(\"/content/gdrive/My Drive/SKRIPSI/model3_raw.h5\")"
      ]
    },
    {
      "cell_type": "markdown",
      "metadata": {
        "id": "xCyB-ZETkbrU"
      },
      "source": [
        "# ***CLASSIFICATION CASE 2***"
      ]
    },
    {
      "cell_type": "markdown",
      "metadata": {
        "id": "c7Anb8oiaEvW"
      },
      "source": [
        "***CLASSIFICATION CASE 2***\n",
        "\n",
        "Classification after images has been preprocessed (Final Prepocessing / Thresholding)\n"
      ]
    },
    {
      "cell_type": "code",
      "execution_count": null,
      "metadata": {
        "colab": {
          "base_uri": "https://localhost:8080/"
        },
        "id": "Vrl_VB50DUaE",
        "outputId": "9420aab0-8ed0-4014-991a-561c4f40dda8"
      },
      "outputs": [
        {
          "name": "stderr",
          "output_type": "stream",
          "text": [
            "Copying files: 1200 files [00:27, 43.55 files/s]\n"
          ]
        }
      ],
      "source": [
        "#SPLIT DATA\n",
        "input_folder='/content/gdrive/My Drive/SKRIPSI/Dataset/CLAHE/'\n",
        "output_folder='/content/gdrive/My Drive/SKRIPSI/Dataset/cnn_3' #cnn_2 save splitted final preprocessing datas\n",
        "splitfolders.ratio(input_folder, output=output_folder, seed=133, ratio=(.8, .2), group_prefix=None) "
      ]
    },
    {
      "cell_type": "code",
      "execution_count": null,
      "metadata": {
        "colab": {
          "base_uri": "https://localhost:8080/"
        },
        "id": "fIgTb9izlO6b",
        "outputId": "add14d97-5fc1-4f7e-fb49-1398cb76ce06"
      },
      "outputs": [
        {
          "output_type": "stream",
          "name": "stdout",
          "text": [
            "Found 960 images belonging to 2 classes.\n",
            "Found 240 images belonging to 2 classes.\n"
          ]
        }
      ],
      "source": [
        "# Fitting the data to the model \n",
        "train_datagen = ImageDataGenerator(rescale= 1./255, shear_range= 0.2, zoom_range= 0.2, horizontal_flip = \"true\", vertical_flip = \"true\")\n",
        "test_datagen = ImageDataGenerator(rescale= 1./255)\n",
        "\n",
        "training_set_m2 = train_datagen.flow_from_directory('/content/gdrive/My Drive/SKRIPSI/Dataset/cnn_3/train',\n",
        "target_size = (200,300),\n",
        "batch_size = 32,\n",
        "class_mode = 'binary')\n",
        "\n",
        "test_set_m2 = test_datagen.flow_from_directory('/content/gdrive/My Drive/SKRIPSI/Dataset/cnn_3/val',\n",
        "target_size = (200,300),\n",
        "batch_size = 32,\n",
        "class_mode = 'binary')"
      ]
    },
    {
      "cell_type": "code",
      "execution_count": null,
      "metadata": {
        "id": "ZkSCUqTOnV15"
      },
      "outputs": [],
      "source": [
        "# Fit the data to the model1\n",
        "history = model1.fit(training_set_m2, epochs=30, batch_size=8, validation_data = test_set_m2)\n",
        "model1.save(\"/content/gdrive/My Drive/SKRIPSI/model1_CLAHE.h5\")"
      ]
    },
    {
      "cell_type": "code",
      "execution_count": null,
      "metadata": {
        "id": "CDQpFUjhJ_Ur"
      },
      "outputs": [],
      "source": [
        "import matplotlib.pyplot as plt\n",
        "plt.plot(history.history['accuracy'], label='accuracy')\n",
        "plt.plot(history.history['val_accuracy'], label = 'val_accuracy')\n",
        "plt.xlabel('Epoch')\n",
        "plt.ylabel('Accuracy')\n",
        "plt.ylim([0.5, 1])\n",
        "plt.legend(loc='lower right')\n",
        "\n",
        "test_loss, test_acc = model1.evaluate(test_set_m2, verbose=2)"
      ]
    },
    {
      "cell_type": "code",
      "execution_count": null,
      "metadata": {
        "id": "X10C9jrs-xn4"
      },
      "outputs": [],
      "source": [
        "model2.fit(training_set_m2, epochs=20, batch_size=8, validation_data = test_set_m2)"
      ]
    },
    {
      "cell_type": "code",
      "execution_count": null,
      "metadata": {
        "colab": {
          "base_uri": "https://localhost:8080/",
          "height": 467
        },
        "id": "uELJG9CHl8NQ",
        "outputId": "adf803de-585b-4c69-939a-c0e925c37dfc"
      },
      "outputs": [
        {
          "output_type": "stream",
          "name": "stdout",
          "text": [
            "Epoch 1/30\n",
            "30/30 [==============================] - 140s 5s/step - loss: 0.6384 - accuracy: 0.5000 - val_loss: 0.5708 - val_accuracy: 0.5000\n",
            "Epoch 2/30\n",
            "30/30 [==============================] - 140s 5s/step - loss: 0.5323 - accuracy: 0.5000 - val_loss: 0.7037 - val_accuracy: 0.5000\n",
            "Epoch 3/30\n",
            "30/30 [==============================] - 138s 5s/step - loss: 0.5527 - accuracy: 0.5000 - val_loss: 0.4445 - val_accuracy: 0.5000\n",
            "Epoch 4/30\n",
            "30/30 [==============================] - ETA: 0s - loss: 0.4972 - accuracy: 0.5000"
          ]
        },
        {
          "output_type": "error",
          "ename": "KeyboardInterrupt",
          "evalue": "ignored",
          "traceback": [
            "\u001b[0;31m---------------------------------------------------------------------------\u001b[0m",
            "\u001b[0;31mKeyboardInterrupt\u001b[0m                         Traceback (most recent call last)",
            "\u001b[0;32m<ipython-input-17-570ea5c648aa>\u001b[0m in \u001b[0;36m<module>\u001b[0;34m()\u001b[0m\n\u001b[0;32m----> 1\u001b[0;31m \u001b[0mhistory\u001b[0m \u001b[0;34m=\u001b[0m \u001b[0mmodel3\u001b[0m\u001b[0;34m.\u001b[0m\u001b[0mfit\u001b[0m\u001b[0;34m(\u001b[0m\u001b[0mtraining_set_m2\u001b[0m\u001b[0;34m,\u001b[0m \u001b[0mepochs\u001b[0m\u001b[0;34m=\u001b[0m\u001b[0;36m30\u001b[0m\u001b[0;34m,\u001b[0m \u001b[0mbatch_size\u001b[0m\u001b[0;34m=\u001b[0m\u001b[0;36m32\u001b[0m\u001b[0;34m,\u001b[0m \u001b[0mvalidation_data\u001b[0m \u001b[0;34m=\u001b[0m \u001b[0mtest_set_m2\u001b[0m\u001b[0;34m)\u001b[0m\u001b[0;34m\u001b[0m\u001b[0;34m\u001b[0m\u001b[0m\n\u001b[0m\u001b[1;32m      2\u001b[0m \u001b[0mmodel3\u001b[0m\u001b[0;34m.\u001b[0m\u001b[0msave\u001b[0m\u001b[0;34m(\u001b[0m\u001b[0;34m\"/content/gdrive/My Drive/SKRIPSI/model3_CLAHE1_5.h5\"\u001b[0m\u001b[0;34m)\u001b[0m\u001b[0;34m\u001b[0m\u001b[0;34m\u001b[0m\u001b[0m\n",
            "\u001b[0;32m/usr/local/lib/python3.7/dist-packages/keras/utils/traceback_utils.py\u001b[0m in \u001b[0;36merror_handler\u001b[0;34m(*args, **kwargs)\u001b[0m\n\u001b[1;32m     62\u001b[0m     \u001b[0mfiltered_tb\u001b[0m \u001b[0;34m=\u001b[0m \u001b[0;32mNone\u001b[0m\u001b[0;34m\u001b[0m\u001b[0;34m\u001b[0m\u001b[0m\n\u001b[1;32m     63\u001b[0m     \u001b[0;32mtry\u001b[0m\u001b[0;34m:\u001b[0m\u001b[0;34m\u001b[0m\u001b[0;34m\u001b[0m\u001b[0m\n\u001b[0;32m---> 64\u001b[0;31m       \u001b[0;32mreturn\u001b[0m \u001b[0mfn\u001b[0m\u001b[0;34m(\u001b[0m\u001b[0;34m*\u001b[0m\u001b[0margs\u001b[0m\u001b[0;34m,\u001b[0m \u001b[0;34m**\u001b[0m\u001b[0mkwargs\u001b[0m\u001b[0;34m)\u001b[0m\u001b[0;34m\u001b[0m\u001b[0;34m\u001b[0m\u001b[0m\n\u001b[0m\u001b[1;32m     65\u001b[0m     \u001b[0;32mexcept\u001b[0m \u001b[0mException\u001b[0m \u001b[0;32mas\u001b[0m \u001b[0me\u001b[0m\u001b[0;34m:\u001b[0m  \u001b[0;31m# pylint: disable=broad-except\u001b[0m\u001b[0;34m\u001b[0m\u001b[0;34m\u001b[0m\u001b[0m\n\u001b[1;32m     66\u001b[0m       \u001b[0mfiltered_tb\u001b[0m \u001b[0;34m=\u001b[0m \u001b[0m_process_traceback_frames\u001b[0m\u001b[0;34m(\u001b[0m\u001b[0me\u001b[0m\u001b[0;34m.\u001b[0m\u001b[0m__traceback__\u001b[0m\u001b[0;34m)\u001b[0m\u001b[0;34m\u001b[0m\u001b[0;34m\u001b[0m\u001b[0m\n",
            "\u001b[0;32m/usr/local/lib/python3.7/dist-packages/keras/engine/training.py\u001b[0m in \u001b[0;36mfit\u001b[0;34m(self, x, y, batch_size, epochs, verbose, callbacks, validation_split, validation_data, shuffle, class_weight, sample_weight, initial_epoch, steps_per_epoch, validation_steps, validation_batch_size, validation_freq, max_queue_size, workers, use_multiprocessing)\u001b[0m\n\u001b[1;32m   1261\u001b[0m               \u001b[0muse_multiprocessing\u001b[0m\u001b[0;34m=\u001b[0m\u001b[0muse_multiprocessing\u001b[0m\u001b[0;34m,\u001b[0m\u001b[0;34m\u001b[0m\u001b[0;34m\u001b[0m\u001b[0m\n\u001b[1;32m   1262\u001b[0m               \u001b[0mreturn_dict\u001b[0m\u001b[0;34m=\u001b[0m\u001b[0;32mTrue\u001b[0m\u001b[0;34m,\u001b[0m\u001b[0;34m\u001b[0m\u001b[0;34m\u001b[0m\u001b[0m\n\u001b[0;32m-> 1263\u001b[0;31m               _use_cached_eval_dataset=True)\n\u001b[0m\u001b[1;32m   1264\u001b[0m           \u001b[0mval_logs\u001b[0m \u001b[0;34m=\u001b[0m \u001b[0;34m{\u001b[0m\u001b[0;34m'val_'\u001b[0m \u001b[0;34m+\u001b[0m \u001b[0mname\u001b[0m\u001b[0;34m:\u001b[0m \u001b[0mval\u001b[0m \u001b[0;32mfor\u001b[0m \u001b[0mname\u001b[0m\u001b[0;34m,\u001b[0m \u001b[0mval\u001b[0m \u001b[0;32min\u001b[0m \u001b[0mval_logs\u001b[0m\u001b[0;34m.\u001b[0m\u001b[0mitems\u001b[0m\u001b[0;34m(\u001b[0m\u001b[0;34m)\u001b[0m\u001b[0;34m}\u001b[0m\u001b[0;34m\u001b[0m\u001b[0;34m\u001b[0m\u001b[0m\n\u001b[1;32m   1265\u001b[0m           \u001b[0mepoch_logs\u001b[0m\u001b[0;34m.\u001b[0m\u001b[0mupdate\u001b[0m\u001b[0;34m(\u001b[0m\u001b[0mval_logs\u001b[0m\u001b[0;34m)\u001b[0m\u001b[0;34m\u001b[0m\u001b[0;34m\u001b[0m\u001b[0m\n",
            "\u001b[0;32m/usr/local/lib/python3.7/dist-packages/keras/utils/traceback_utils.py\u001b[0m in \u001b[0;36merror_handler\u001b[0;34m(*args, **kwargs)\u001b[0m\n\u001b[1;32m     62\u001b[0m     \u001b[0mfiltered_tb\u001b[0m \u001b[0;34m=\u001b[0m \u001b[0;32mNone\u001b[0m\u001b[0;34m\u001b[0m\u001b[0;34m\u001b[0m\u001b[0m\n\u001b[1;32m     63\u001b[0m     \u001b[0;32mtry\u001b[0m\u001b[0;34m:\u001b[0m\u001b[0;34m\u001b[0m\u001b[0;34m\u001b[0m\u001b[0m\n\u001b[0;32m---> 64\u001b[0;31m       \u001b[0;32mreturn\u001b[0m \u001b[0mfn\u001b[0m\u001b[0;34m(\u001b[0m\u001b[0;34m*\u001b[0m\u001b[0margs\u001b[0m\u001b[0;34m,\u001b[0m \u001b[0;34m**\u001b[0m\u001b[0mkwargs\u001b[0m\u001b[0;34m)\u001b[0m\u001b[0;34m\u001b[0m\u001b[0;34m\u001b[0m\u001b[0m\n\u001b[0m\u001b[1;32m     65\u001b[0m     \u001b[0;32mexcept\u001b[0m \u001b[0mException\u001b[0m \u001b[0;32mas\u001b[0m \u001b[0me\u001b[0m\u001b[0;34m:\u001b[0m  \u001b[0;31m# pylint: disable=broad-except\u001b[0m\u001b[0;34m\u001b[0m\u001b[0;34m\u001b[0m\u001b[0m\n\u001b[1;32m     66\u001b[0m       \u001b[0mfiltered_tb\u001b[0m \u001b[0;34m=\u001b[0m \u001b[0m_process_traceback_frames\u001b[0m\u001b[0;34m(\u001b[0m\u001b[0me\u001b[0m\u001b[0;34m.\u001b[0m\u001b[0m__traceback__\u001b[0m\u001b[0;34m)\u001b[0m\u001b[0;34m\u001b[0m\u001b[0;34m\u001b[0m\u001b[0m\n",
            "\u001b[0;32m/usr/local/lib/python3.7/dist-packages/keras/engine/training.py\u001b[0m in \u001b[0;36mevaluate\u001b[0;34m(self, x, y, batch_size, verbose, sample_weight, steps, callbacks, max_queue_size, workers, use_multiprocessing, return_dict, **kwargs)\u001b[0m\n\u001b[1;32m   1535\u001b[0m             \u001b[0;32mwith\u001b[0m \u001b[0mtf\u001b[0m\u001b[0;34m.\u001b[0m\u001b[0mprofiler\u001b[0m\u001b[0;34m.\u001b[0m\u001b[0mexperimental\u001b[0m\u001b[0;34m.\u001b[0m\u001b[0mTrace\u001b[0m\u001b[0;34m(\u001b[0m\u001b[0;34m'test'\u001b[0m\u001b[0;34m,\u001b[0m \u001b[0mstep_num\u001b[0m\u001b[0;34m=\u001b[0m\u001b[0mstep\u001b[0m\u001b[0;34m,\u001b[0m \u001b[0m_r\u001b[0m\u001b[0;34m=\u001b[0m\u001b[0;36m1\u001b[0m\u001b[0;34m)\u001b[0m\u001b[0;34m:\u001b[0m\u001b[0;34m\u001b[0m\u001b[0;34m\u001b[0m\u001b[0m\n\u001b[1;32m   1536\u001b[0m               \u001b[0mcallbacks\u001b[0m\u001b[0;34m.\u001b[0m\u001b[0mon_test_batch_begin\u001b[0m\u001b[0;34m(\u001b[0m\u001b[0mstep\u001b[0m\u001b[0;34m)\u001b[0m\u001b[0;34m\u001b[0m\u001b[0;34m\u001b[0m\u001b[0m\n\u001b[0;32m-> 1537\u001b[0;31m               \u001b[0mtmp_logs\u001b[0m \u001b[0;34m=\u001b[0m \u001b[0mself\u001b[0m\u001b[0;34m.\u001b[0m\u001b[0mtest_function\u001b[0m\u001b[0;34m(\u001b[0m\u001b[0miterator\u001b[0m\u001b[0;34m)\u001b[0m\u001b[0;34m\u001b[0m\u001b[0;34m\u001b[0m\u001b[0m\n\u001b[0m\u001b[1;32m   1538\u001b[0m               \u001b[0;32mif\u001b[0m \u001b[0mdata_handler\u001b[0m\u001b[0;34m.\u001b[0m\u001b[0mshould_sync\u001b[0m\u001b[0;34m:\u001b[0m\u001b[0;34m\u001b[0m\u001b[0;34m\u001b[0m\u001b[0m\n\u001b[1;32m   1539\u001b[0m                 \u001b[0mcontext\u001b[0m\u001b[0;34m.\u001b[0m\u001b[0masync_wait\u001b[0m\u001b[0;34m(\u001b[0m\u001b[0;34m)\u001b[0m\u001b[0;34m\u001b[0m\u001b[0;34m\u001b[0m\u001b[0m\n",
            "\u001b[0;32m/usr/local/lib/python3.7/dist-packages/tensorflow/python/util/traceback_utils.py\u001b[0m in \u001b[0;36merror_handler\u001b[0;34m(*args, **kwargs)\u001b[0m\n\u001b[1;32m    148\u001b[0m     \u001b[0mfiltered_tb\u001b[0m \u001b[0;34m=\u001b[0m \u001b[0;32mNone\u001b[0m\u001b[0;34m\u001b[0m\u001b[0;34m\u001b[0m\u001b[0m\n\u001b[1;32m    149\u001b[0m     \u001b[0;32mtry\u001b[0m\u001b[0;34m:\u001b[0m\u001b[0;34m\u001b[0m\u001b[0;34m\u001b[0m\u001b[0m\n\u001b[0;32m--> 150\u001b[0;31m       \u001b[0;32mreturn\u001b[0m \u001b[0mfn\u001b[0m\u001b[0;34m(\u001b[0m\u001b[0;34m*\u001b[0m\u001b[0margs\u001b[0m\u001b[0;34m,\u001b[0m \u001b[0;34m**\u001b[0m\u001b[0mkwargs\u001b[0m\u001b[0;34m)\u001b[0m\u001b[0;34m\u001b[0m\u001b[0;34m\u001b[0m\u001b[0m\n\u001b[0m\u001b[1;32m    151\u001b[0m     \u001b[0;32mexcept\u001b[0m \u001b[0mException\u001b[0m \u001b[0;32mas\u001b[0m \u001b[0me\u001b[0m\u001b[0;34m:\u001b[0m\u001b[0;34m\u001b[0m\u001b[0;34m\u001b[0m\u001b[0m\n\u001b[1;32m    152\u001b[0m       \u001b[0mfiltered_tb\u001b[0m \u001b[0;34m=\u001b[0m \u001b[0m_process_traceback_frames\u001b[0m\u001b[0;34m(\u001b[0m\u001b[0me\u001b[0m\u001b[0;34m.\u001b[0m\u001b[0m__traceback__\u001b[0m\u001b[0;34m)\u001b[0m\u001b[0;34m\u001b[0m\u001b[0;34m\u001b[0m\u001b[0m\n",
            "\u001b[0;32m/usr/local/lib/python3.7/dist-packages/tensorflow/python/eager/def_function.py\u001b[0m in \u001b[0;36m__call__\u001b[0;34m(self, *args, **kwds)\u001b[0m\n\u001b[1;32m    908\u001b[0m \u001b[0;34m\u001b[0m\u001b[0m\n\u001b[1;32m    909\u001b[0m       \u001b[0;32mwith\u001b[0m \u001b[0mOptionalXlaContext\u001b[0m\u001b[0;34m(\u001b[0m\u001b[0mself\u001b[0m\u001b[0;34m.\u001b[0m\u001b[0m_jit_compile\u001b[0m\u001b[0;34m)\u001b[0m\u001b[0;34m:\u001b[0m\u001b[0;34m\u001b[0m\u001b[0;34m\u001b[0m\u001b[0m\n\u001b[0;32m--> 910\u001b[0;31m         \u001b[0mresult\u001b[0m \u001b[0;34m=\u001b[0m \u001b[0mself\u001b[0m\u001b[0;34m.\u001b[0m\u001b[0m_call\u001b[0m\u001b[0;34m(\u001b[0m\u001b[0;34m*\u001b[0m\u001b[0margs\u001b[0m\u001b[0;34m,\u001b[0m \u001b[0;34m**\u001b[0m\u001b[0mkwds\u001b[0m\u001b[0;34m)\u001b[0m\u001b[0;34m\u001b[0m\u001b[0;34m\u001b[0m\u001b[0m\n\u001b[0m\u001b[1;32m    911\u001b[0m \u001b[0;34m\u001b[0m\u001b[0m\n\u001b[1;32m    912\u001b[0m       \u001b[0mnew_tracing_count\u001b[0m \u001b[0;34m=\u001b[0m \u001b[0mself\u001b[0m\u001b[0;34m.\u001b[0m\u001b[0mexperimental_get_tracing_count\u001b[0m\u001b[0;34m(\u001b[0m\u001b[0;34m)\u001b[0m\u001b[0;34m\u001b[0m\u001b[0;34m\u001b[0m\u001b[0m\n",
            "\u001b[0;32m/usr/local/lib/python3.7/dist-packages/tensorflow/python/eager/def_function.py\u001b[0m in \u001b[0;36m_call\u001b[0;34m(self, *args, **kwds)\u001b[0m\n\u001b[1;32m    947\u001b[0m       \u001b[0;31m# In this case we have not created variables on the first call. So we can\u001b[0m\u001b[0;34m\u001b[0m\u001b[0;34m\u001b[0m\u001b[0;34m\u001b[0m\u001b[0m\n\u001b[1;32m    948\u001b[0m       \u001b[0;31m# run the first trace but we should fail if variables are created.\u001b[0m\u001b[0;34m\u001b[0m\u001b[0;34m\u001b[0m\u001b[0;34m\u001b[0m\u001b[0m\n\u001b[0;32m--> 949\u001b[0;31m       \u001b[0mresults\u001b[0m \u001b[0;34m=\u001b[0m \u001b[0mself\u001b[0m\u001b[0;34m.\u001b[0m\u001b[0m_stateful_fn\u001b[0m\u001b[0;34m(\u001b[0m\u001b[0;34m*\u001b[0m\u001b[0margs\u001b[0m\u001b[0;34m,\u001b[0m \u001b[0;34m**\u001b[0m\u001b[0mkwds\u001b[0m\u001b[0;34m)\u001b[0m\u001b[0;34m\u001b[0m\u001b[0;34m\u001b[0m\u001b[0m\n\u001b[0m\u001b[1;32m    950\u001b[0m       \u001b[0;32mif\u001b[0m \u001b[0mself\u001b[0m\u001b[0;34m.\u001b[0m\u001b[0m_created_variables\u001b[0m \u001b[0;32mand\u001b[0m \u001b[0;32mnot\u001b[0m \u001b[0mALLOW_DYNAMIC_VARIABLE_CREATION\u001b[0m\u001b[0;34m:\u001b[0m\u001b[0;34m\u001b[0m\u001b[0;34m\u001b[0m\u001b[0m\n\u001b[1;32m    951\u001b[0m         raise ValueError(\"Creating variables on a non-first call to a function\"\n",
            "\u001b[0;32m/usr/local/lib/python3.7/dist-packages/tensorflow/python/eager/function.py\u001b[0m in \u001b[0;36m__call__\u001b[0;34m(self, *args, **kwargs)\u001b[0m\n\u001b[1;32m   3129\u001b[0m        filtered_flat_args) = self._maybe_define_function(args, kwargs)\n\u001b[1;32m   3130\u001b[0m     return graph_function._call_flat(\n\u001b[0;32m-> 3131\u001b[0;31m         filtered_flat_args, captured_inputs=graph_function.captured_inputs)  # pylint: disable=protected-access\n\u001b[0m\u001b[1;32m   3132\u001b[0m \u001b[0;34m\u001b[0m\u001b[0m\n\u001b[1;32m   3133\u001b[0m   \u001b[0;34m@\u001b[0m\u001b[0mproperty\u001b[0m\u001b[0;34m\u001b[0m\u001b[0;34m\u001b[0m\u001b[0m\n",
            "\u001b[0;32m/usr/local/lib/python3.7/dist-packages/tensorflow/python/eager/function.py\u001b[0m in \u001b[0;36m_call_flat\u001b[0;34m(self, args, captured_inputs, cancellation_manager)\u001b[0m\n\u001b[1;32m   1958\u001b[0m       \u001b[0;31m# No tape is watching; skip to running the function.\u001b[0m\u001b[0;34m\u001b[0m\u001b[0;34m\u001b[0m\u001b[0;34m\u001b[0m\u001b[0m\n\u001b[1;32m   1959\u001b[0m       return self._build_call_outputs(self._inference_function.call(\n\u001b[0;32m-> 1960\u001b[0;31m           ctx, args, cancellation_manager=cancellation_manager))\n\u001b[0m\u001b[1;32m   1961\u001b[0m     forward_backward = self._select_forward_and_backward_functions(\n\u001b[1;32m   1962\u001b[0m         \u001b[0margs\u001b[0m\u001b[0;34m,\u001b[0m\u001b[0;34m\u001b[0m\u001b[0;34m\u001b[0m\u001b[0m\n",
            "\u001b[0;32m/usr/local/lib/python3.7/dist-packages/tensorflow/python/eager/function.py\u001b[0m in \u001b[0;36mcall\u001b[0;34m(self, ctx, args, cancellation_manager)\u001b[0m\n\u001b[1;32m    601\u001b[0m               \u001b[0minputs\u001b[0m\u001b[0;34m=\u001b[0m\u001b[0margs\u001b[0m\u001b[0;34m,\u001b[0m\u001b[0;34m\u001b[0m\u001b[0;34m\u001b[0m\u001b[0m\n\u001b[1;32m    602\u001b[0m               \u001b[0mattrs\u001b[0m\u001b[0;34m=\u001b[0m\u001b[0mattrs\u001b[0m\u001b[0;34m,\u001b[0m\u001b[0;34m\u001b[0m\u001b[0;34m\u001b[0m\u001b[0m\n\u001b[0;32m--> 603\u001b[0;31m               ctx=ctx)\n\u001b[0m\u001b[1;32m    604\u001b[0m         \u001b[0;32melse\u001b[0m\u001b[0;34m:\u001b[0m\u001b[0;34m\u001b[0m\u001b[0;34m\u001b[0m\u001b[0m\n\u001b[1;32m    605\u001b[0m           outputs = execute.execute_with_cancellation(\n",
            "\u001b[0;32m/usr/local/lib/python3.7/dist-packages/tensorflow/python/eager/execute.py\u001b[0m in \u001b[0;36mquick_execute\u001b[0;34m(op_name, num_outputs, inputs, attrs, ctx, name)\u001b[0m\n\u001b[1;32m     57\u001b[0m     \u001b[0mctx\u001b[0m\u001b[0;34m.\u001b[0m\u001b[0mensure_initialized\u001b[0m\u001b[0;34m(\u001b[0m\u001b[0;34m)\u001b[0m\u001b[0;34m\u001b[0m\u001b[0;34m\u001b[0m\u001b[0m\n\u001b[1;32m     58\u001b[0m     tensors = pywrap_tfe.TFE_Py_Execute(ctx._handle, device_name, op_name,\n\u001b[0;32m---> 59\u001b[0;31m                                         inputs, attrs, num_outputs)\n\u001b[0m\u001b[1;32m     60\u001b[0m   \u001b[0;32mexcept\u001b[0m \u001b[0mcore\u001b[0m\u001b[0;34m.\u001b[0m\u001b[0m_NotOkStatusException\u001b[0m \u001b[0;32mas\u001b[0m \u001b[0me\u001b[0m\u001b[0;34m:\u001b[0m\u001b[0;34m\u001b[0m\u001b[0;34m\u001b[0m\u001b[0m\n\u001b[1;32m     61\u001b[0m     \u001b[0;32mif\u001b[0m \u001b[0mname\u001b[0m \u001b[0;32mis\u001b[0m \u001b[0;32mnot\u001b[0m \u001b[0;32mNone\u001b[0m\u001b[0;34m:\u001b[0m\u001b[0;34m\u001b[0m\u001b[0;34m\u001b[0m\u001b[0m\n",
            "\u001b[0;31mKeyboardInterrupt\u001b[0m: "
          ]
        }
      ],
      "source": [
        "history = model3.fit(training_set_m2, epochs=30, batch_size=32, validation_data = test_set_m2)\n",
        "model3.save(\"/content/gdrive/My Drive/SKRIPSI/model1_CLAHE.h5\")"
      ]
    },
    {
      "cell_type": "code",
      "execution_count": null,
      "metadata": {
        "id": "MsA9fun0-RaR"
      },
      "outputs": [],
      "source": [
        "import matplotlib.pyplot as plt\n",
        "def accuracy_graphic():\n",
        "  plt.plot(history.history['accuracy'], label='train_accuracy')\n",
        "  plt.plot(history.history['val_accuracy'], label = 'val_accuracy')\n",
        "  plt.title('Accuracy Curves')\n",
        "  plt.xlabel('Epoch')\n",
        "  plt.ylabel('Accuracy')\n",
        "  plt.ylim([0.0, 1])\n",
        "  plt.legend(loc='lower right')\n",
        "\n",
        "def loss_graphic():\n",
        "  plt.plot(history.history['loss'], label='train_loss')\n",
        "  plt.plot(history.history['val_loss'], label = 'val_loss')\n",
        "  plt.title('Loss Curves')\n",
        "  plt.xlabel('Epoch')\n",
        "  plt.ylabel('Loss')\n",
        "  plt.ylim([0.0, 1])\n",
        "  plt.legend(loc='lower right')"
      ]
    },
    {
      "cell_type": "code",
      "source": [
        "accuracy_graphic()\n"
      ],
      "metadata": {
        "colab": {
          "base_uri": "https://localhost:8080/",
          "height": 295
        },
        "id": "NksGpx9lOpxd",
        "outputId": "244099a2-5121-46ed-a0b1-4503bc503aa4"
      },
      "execution_count": null,
      "outputs": [
        {
          "output_type": "display_data",
          "data": {
            "image/png": "[encoded data removed]",
            "text/plain": [
              "<Figure size 432x288 with 1 Axes>"
            ]
          },
          "metadata": {
            "needs_background": "light"
          }
        }
      ]
    },
    {
      "cell_type": "code",
      "source": [
        "loss_graphic()"
      ],
      "metadata": {
        "colab": {
          "base_uri": "https://localhost:8080/",
          "height": 295
        },
        "id": "_HMHqvXXQfhf",
        "outputId": "e2134f34-e6af-4f64-ee1a-dc6b707de74a"
      },
      "execution_count": null,
      "outputs": [
        {
          "output_type": "display_data",
          "data": {
            "image/png": "[encoded data removed]",
            "text/plain": [
              "<Figure size 432x288 with 1 Axes>"
            ]
          },
          "metadata": {
            "needs_background": "light"
          }
        }
      ]
    },
    {
      "cell_type": "markdown",
      "metadata": {
        "id": "i41WpK6F_SW1"
      },
      "source": [
        "# ***TESTING THE DATA***"
      ]
    },
    {
      "cell_type": "code",
      "execution_count": null,
      "metadata": {
        "id": "Jnshzgu0ATUr"
      },
      "outputs": [],
      "source": [
        "import os\n",
        "import tensorflow as tf\n",
        "from tensorflow.python.keras.models import Sequential, load_model\n",
        "from tensorflow.python.keras.layers import Conv2D\n",
        "from tensorflow.python.keras.layers import MaxPooling2D\n",
        "from tensorflow.python.keras.layers import Flatten\n",
        "from tensorflow.python.keras.layers import Dense\n",
        "import matplotlib.image as mpimg\n",
        "import numpy as np\n",
        "import matplotlib.pyplot as plt\n",
        "import cv2\n",
        "from tensorflow.python.keras.preprocessing import image\n",
        "from tensorflow.python.keras.preprocessing.image import ImageDataGenerator"
      ]
    },
    {
      "cell_type": "markdown",
      "metadata": {
        "id": "0bGkpNkgTnpR"
      },
      "source": [
        "# *Case 1*"
      ]
    },
    {
      "cell_type": "code",
      "execution_count": null,
      "metadata": {
        "id": "l5-8h5QI_Z9n"
      },
      "outputs": [],
      "source": [
        "# Initialising the CNN\n",
        "file_loc = (\"/content/gdrive/My Drive/SKRIPSI/model3_raw.h5\")\n",
        "classifier = load_model(file_loc)\n",
        "classifier.summary()\n",
        "folder = \"/content/gdrive/My Drive/SKRIPSI/Datatest/raw_image/cancer_datatest/\"\n",
        "normal = 0\n",
        "cancer = 0\n",
        "\n",
        "for filename in os.listdir(folder):\n",
        "  img_pred = image.load_img(os.path.join(folder,filename), target_size = (200, 300))\n",
        "  img_pred = image.img_to_array(img_pred)\n",
        "  img_pred = np.expand_dims(img_pred, axis = 0)\n",
        "  rslt = classifier.predict(img_pred)\n",
        " \n",
        "    #ind = training_set.class_indices\n",
        " \n",
        "  if rslt[0][0] == 1:\n",
        "    prediction = \"Normal\"\n",
        "    normal+=1\n",
        "  else:\n",
        "    prediction = \"Cancer\"\n",
        "    cancer+=1\n",
        "  print(rslt, \" = \", prediction)\n",
        " \n",
        "print('Normal : ', normal)\n",
        "print('Cancer : ', cancer)"
      ]
    },
    {
      "cell_type": "code",
      "execution_count": null,
      "metadata": {
        "colab": {
          "base_uri": "https://localhost:8080/"
        },
        "id": "FVVQZofoMCCQ",
        "outputId": "ea2af551-ad33-45d4-de85-b930ca0351ad"
      },
      "outputs": [
        {
          "name": "stdout",
          "output_type": "stream",
          "text": [
            "Model: \"sequential\"\n",
            "_________________________________________________________________\n",
            "Layer (type)                 Output Shape              Param #   \n",
            "=================================================================\n",
            "conv2d (Conv2D)              (None, 199, 299, 128)     1664      \n",
            "_________________________________________________________________\n",
            "max_pooling2d (MaxPooling2D) (None, 99, 149, 128)      0         \n",
            "_________________________________________________________________\n",
            "conv2d_1 (Conv2D)            (None, 97, 147, 64)       73792     \n",
            "_________________________________________________________________\n",
            "max_pooling2d_1 (MaxPooling2 (None, 48, 73, 64)        0         \n",
            "_________________________________________________________________\n",
            "flatten (Flatten)            (None, 224256)            0         \n",
            "_________________________________________________________________\n",
            "dense (Dense)                (None, 128)               28704896  \n",
            "_________________________________________________________________\n",
            "dense_1 (Dense)              (None, 10)                1290      \n",
            "=================================================================\n",
            "Total params: 28,781,642\n",
            "Trainable params: 28,781,642\n",
            "Non-trainable params: 0\n",
            "_________________________________________________________________\n",
            "[[0. 1. 0. 0. 0. 0. 0. 0. 0. 0.]]  =  Cancer\n",
            "[[0. 1. 0. 0. 0. 0. 0. 0. 0. 0.]]  =  Cancer\n",
            "[[0. 1. 0. 0. 0. 0. 0. 0. 0. 0.]]  =  Cancer\n",
            "[[0. 1. 0. 0. 0. 0. 0. 0. 0. 0.]]  =  Cancer\n",
            "[[0. 1. 0. 0. 0. 0. 0. 0. 0. 0.]]  =  Cancer\n",
            "[[1. 0. 0. 0. 0. 0. 0. 0. 0. 0.]]  =  Normal\n",
            "[[0. 1. 0. 0. 0. 0. 0. 0. 0. 0.]]  =  Cancer\n",
            "[[0. 1. 0. 0. 0. 0. 0. 0. 0. 0.]]  =  Cancer\n",
            "[[1.4637956e-34 1.0000000e+00 0.0000000e+00 0.0000000e+00 0.0000000e+00\n",
            "  0.0000000e+00 0.0000000e+00 0.0000000e+00 0.0000000e+00 0.0000000e+00]]  =  Cancer\n",
            "[[0. 1. 0. 0. 0. 0. 0. 0. 0. 0.]]  =  Cancer\n",
            "[[0. 1. 0. 0. 0. 0. 0. 0. 0. 0.]]  =  Cancer\n",
            "[[0. 1. 0. 0. 0. 0. 0. 0. 0. 0.]]  =  Cancer\n",
            "[[0. 1. 0. 0. 0. 0. 0. 0. 0. 0.]]  =  Cancer\n",
            "[[0. 1. 0. 0. 0. 0. 0. 0. 0. 0.]]  =  Cancer\n",
            "[[1. 0. 0. 0. 0. 0. 0. 0. 0. 0.]]  =  Normal\n",
            "[[1. 0. 0. 0. 0. 0. 0. 0. 0. 0.]]  =  Normal\n",
            "[[1. 0. 0. 0. 0. 0. 0. 0. 0. 0.]]  =  Normal\n",
            "[[0. 1. 0. 0. 0. 0. 0. 0. 0. 0.]]  =  Cancer\n",
            "[[0. 1. 0. 0. 0. 0. 0. 0. 0. 0.]]  =  Cancer\n",
            "[[0. 1. 0. 0. 0. 0. 0. 0. 0. 0.]]  =  Cancer\n",
            "[[0. 1. 0. 0. 0. 0. 0. 0. 0. 0.]]  =  Cancer\n",
            "[[0. 1. 0. 0. 0. 0. 0. 0. 0. 0.]]  =  Cancer\n",
            "[[0. 1. 0. 0. 0. 0. 0. 0. 0. 0.]]  =  Cancer\n",
            "[[0. 1. 0. 0. 0. 0. 0. 0. 0. 0.]]  =  Cancer\n",
            "[[0. 1. 0. 0. 0. 0. 0. 0. 0. 0.]]  =  Cancer\n",
            "[[0. 1. 0. 0. 0. 0. 0. 0. 0. 0.]]  =  Cancer\n",
            "[[0. 1. 0. 0. 0. 0. 0. 0. 0. 0.]]  =  Cancer\n",
            "[[0. 1. 0. 0. 0. 0. 0. 0. 0. 0.]]  =  Cancer\n",
            "[[0. 1. 0. 0. 0. 0. 0. 0. 0. 0.]]  =  Cancer\n",
            "[[0. 1. 0. 0. 0. 0. 0. 0. 0. 0.]]  =  Cancer\n",
            "[[0. 1. 0. 0. 0. 0. 0. 0. 0. 0.]]  =  Cancer\n",
            "[[0. 1. 0. 0. 0. 0. 0. 0. 0. 0.]]  =  Cancer\n",
            "[[1. 0. 0. 0. 0. 0. 0. 0. 0. 0.]]  =  Normal\n",
            "[[0. 1. 0. 0. 0. 0. 0. 0. 0. 0.]]  =  Cancer\n",
            "[[0. 1. 0. 0. 0. 0. 0. 0. 0. 0.]]  =  Cancer\n",
            "[[2.9091773e-09 1.0000000e+00 0.0000000e+00 0.0000000e+00 0.0000000e+00\n",
            "  0.0000000e+00 0.0000000e+00 0.0000000e+00 0.0000000e+00 0.0000000e+00]]  =  Cancer\n",
            "[[0. 1. 0. 0. 0. 0. 0. 0. 0. 0.]]  =  Cancer\n",
            "[[0. 1. 0. 0. 0. 0. 0. 0. 0. 0.]]  =  Cancer\n",
            "[[0. 1. 0. 0. 0. 0. 0. 0. 0. 0.]]  =  Cancer\n",
            "[[0. 1. 0. 0. 0. 0. 0. 0. 0. 0.]]  =  Cancer\n",
            "[[0. 1. 0. 0. 0. 0. 0. 0. 0. 0.]]  =  Cancer\n",
            "[[0. 1. 0. 0. 0. 0. 0. 0. 0. 0.]]  =  Cancer\n",
            "[[0. 1. 0. 0. 0. 0. 0. 0. 0. 0.]]  =  Cancer\n",
            "[[0. 1. 0. 0. 0. 0. 0. 0. 0. 0.]]  =  Cancer\n",
            "[[0. 1. 0. 0. 0. 0. 0. 0. 0. 0.]]  =  Cancer\n",
            "[[0. 1. 0. 0. 0. 0. 0. 0. 0. 0.]]  =  Cancer\n",
            "[[0. 1. 0. 0. 0. 0. 0. 0. 0. 0.]]  =  Cancer\n",
            "[[0. 1. 0. 0. 0. 0. 0. 0. 0. 0.]]  =  Cancer\n",
            "[[0. 1. 0. 0. 0. 0. 0. 0. 0. 0.]]  =  Cancer\n",
            "[[5.7112097e-09 1.0000000e+00 0.0000000e+00 0.0000000e+00 0.0000000e+00\n",
            "  0.0000000e+00 0.0000000e+00 0.0000000e+00 0.0000000e+00 0.0000000e+00]]  =  Cancer\n",
            "[[1.3069898e-08 1.0000000e+00 0.0000000e+00 0.0000000e+00 0.0000000e+00\n",
            "  0.0000000e+00 0.0000000e+00 0.0000000e+00 0.0000000e+00 0.0000000e+00]]  =  Cancer\n",
            "[[0. 1. 0. 0. 0. 0. 0. 0. 0. 0.]]  =  Cancer\n",
            "[[0. 1. 0. 0. 0. 0. 0. 0. 0. 0.]]  =  Cancer\n",
            "[[0. 1. 0. 0. 0. 0. 0. 0. 0. 0.]]  =  Cancer\n",
            "[[0. 1. 0. 0. 0. 0. 0. 0. 0. 0.]]  =  Cancer\n",
            "[[0. 1. 0. 0. 0. 0. 0. 0. 0. 0.]]  =  Cancer\n",
            "[[0. 1. 0. 0. 0. 0. 0. 0. 0. 0.]]  =  Cancer\n",
            "[[0. 1. 0. 0. 0. 0. 0. 0. 0. 0.]]  =  Cancer\n",
            "[[0. 1. 0. 0. 0. 0. 0. 0. 0. 0.]]  =  Cancer\n",
            "[[0. 1. 0. 0. 0. 0. 0. 0. 0. 0.]]  =  Cancer\n",
            "Normal :  5\n",
            "Cancer :  55\n"
          ]
        }
      ],
      "source": [
        "# Initialising the CNN\n",
        "file_loc = (\"/content/gdrive/My Drive/SKRIPSI/model3_raw.h5\")\n",
        "classifier = load_model(file_loc)\n",
        "classifier.summary()\n",
        "folder = \"/content/gdrive/My Drive/SKRIPSI/Datatest/raw_image/normal_datatest/\"\n",
        "normal = 0\n",
        "cancer = 0\n",
        "\n",
        "for filename in os.listdir(folder):\n",
        "  img_pred = image.load_img(os.path.join(folder,filename), target_size = (200, 300))\n",
        "  img_pred = image.img_to_array(img_pred)\n",
        "  img_pred = np.expand_dims(img_pred, axis = 0)\n",
        "  rslt = classifier.predict(img_pred)\n",
        " \n",
        "    #ind = training_set.class_indices\n",
        " \n",
        "  if rslt[0][0] == 1:\n",
        "    prediction = \"Normal\"\n",
        "    normal+=1\n",
        "  else:\n",
        "    prediction = \"Cancer\"\n",
        "    cancer+=1\n",
        "  print(rslt, \" = \", prediction)\n",
        " \n",
        "print('Normal : ', normal)\n",
        "print('Cancer : ', cancer)\n"
      ]
    },
    {
      "cell_type": "markdown",
      "metadata": {
        "id": "H83tU2VgTu7P"
      },
      "source": [
        "# *Case 2*"
      ]
    },
    {
      "cell_type": "code",
      "source": [
        "file_loc = ('/content/gdrive/My Drive/SKRIPSI/model3_CLAHE1_2.h5')\n",
        "classifier = load_model(file_loc)\n",
        "classifier.summary()"
      ],
      "metadata": {
        "colab": {
          "base_uri": "https://localhost:8080/"
        },
        "id": "00COuWwSRIsl",
        "outputId": "7cc0946c-a9db-40ad-f589-4f8b17e539ab"
      },
      "execution_count": null,
      "outputs": [
        {
          "output_type": "stream",
          "name": "stdout",
          "text": [
            "Model: \"sequential_9\"\n",
            "_________________________________________________________________\n",
            "Layer (type)                 Output Shape              Param #   \n",
            "=================================================================\n",
            "conv2d_26 (Conv2D)           (None, 200, 300, 64)      832       \n",
            "_________________________________________________________________\n",
            "max_pooling2d_26 (MaxPooling (None, 100, 150, 64)      0         \n",
            "_________________________________________________________________\n",
            "conv2d_27 (Conv2D)           (None, 98, 148, 64)       36928     \n",
            "_________________________________________________________________\n",
            "max_pooling2d_27 (MaxPooling (None, 49, 74, 64)        0         \n",
            "_________________________________________________________________\n",
            "conv2d_28 (Conv2D)           (None, 47, 72, 64)        36928     \n",
            "_________________________________________________________________\n",
            "max_pooling2d_28 (MaxPooling (None, 23, 36, 64)        0         \n",
            "_________________________________________________________________\n",
            "flatten_9 (Flatten)          (None, 52992)             0         \n",
            "_________________________________________________________________\n",
            "dense_22 (Dense)             (None, 64)                3391552   \n",
            "_________________________________________________________________\n",
            "dense_23 (Dense)             (None, 64)                4160      \n",
            "_________________________________________________________________\n",
            "dense_24 (Dense)             (None, 1)                 65        \n",
            "=================================================================\n",
            "Total params: 3,470,465\n",
            "Trainable params: 3,470,465\n",
            "Non-trainable params: 0\n",
            "_________________________________________________________________\n"
          ]
        }
      ]
    },
    {
      "cell_type": "code",
      "execution_count": null,
      "metadata": {
        "colab": {
          "base_uri": "https://localhost:8080/"
        },
        "id": "Z9jASWQUT2qU",
        "outputId": "d8e04095-cb81-4181-bfcc-8f7e72b82d9d"
      },
      "outputs": [
        {
          "output_type": "stream",
          "name": "stdout",
          "text": [
            "Model: \"sequential\"\n",
            "_________________________________________________________________\n",
            "Layer (type)                 Output Shape              Param #   \n",
            "=================================================================\n",
            "conv2d (Conv2D)              (None, 198, 298, 64)      1792      \n",
            "_________________________________________________________________\n",
            "max_pooling2d (MaxPooling2D) (None, 99, 149, 64)       0         \n",
            "_________________________________________________________________\n",
            "conv2d_1 (Conv2D)            (None, 97, 147, 64)       36928     \n",
            "_________________________________________________________________\n",
            "max_pooling2d_1 (MaxPooling2 (None, 48, 73, 64)        0         \n",
            "_________________________________________________________________\n",
            "flatten (Flatten)            (None, 224256)            0         \n",
            "_________________________________________________________________\n",
            "dense (Dense)                (None, 128)               28704896  \n",
            "_________________________________________________________________\n",
            "dense_1 (Dense)              (None, 10)                1290      \n",
            "=================================================================\n",
            "Total params: 28,744,906\n",
            "Trainable params: 28,744,906\n",
            "Non-trainable params: 0\n",
            "_________________________________________________________________\n",
            "CLAHE_Resized_A_1724_1.LEFT_CC.jpg   [[0. 1. 0. 0. 0. 0. 0. 0. 0. 0.]]  =  Cancer\n",
            "CLAHE_Resized_A_1724_1.LEFT_MLO.jpg   [[0. 1. 0. 0. 0. 0. 0. 0. 0. 0.]]  =  Cancer\n",
            "CLAHE_Resized_A_1729_1.RIGHT_MLO.jpg   [[0. 1. 0. 0. 0. 0. 0. 0. 0. 0.]]  =  Cancer\n",
            "CLAHE_Resized_A_1772_1.LEFT_MLO.jpg   [[0. 1. 0. 0. 0. 0. 0. 0. 0. 0.]]  =  Cancer\n",
            "CLAHE_Resized_A_1729_1.RIGHT_CC.jpg   [[1. 0. 0. 0. 0. 0. 0. 0. 0. 0.]]  =  Normal\n",
            "CLAHE_Resized_A_1780_1.RIGHT_CC.jpg   [[0. 1. 0. 0. 0. 0. 0. 0. 0. 0.]]  =  Cancer\n",
            "CLAHE_Resized_A_1772_1.LEFT_CC.jpg   [[0. 1. 0. 0. 0. 0. 0. 0. 0. 0.]]  =  Cancer\n",
            "CLAHE_Resized_A_1780_1.RIGHT_MLO.jpg   [[0. 1. 0. 0. 0. 0. 0. 0. 0. 0.]]  =  Cancer\n",
            "CLAHE_Resized_A_1804_1.LEFT_MLO.jpg   [[0. 1. 0. 0. 0. 0. 0. 0. 0. 0.]]  =  Cancer\n",
            "CLAHE_Resized_A_1821_1.LEFT_CC.jpg   [[0. 1. 0. 0. 0. 0. 0. 0. 0. 0.]]  =  Cancer\n",
            "CLAHE_Resized_A_1820_1.LEFT_MLO.jpg   [[0. 1. 0. 0. 0. 0. 0. 0. 0. 0.]]  =  Cancer\n",
            "CLAHE_Resized_A_1804_1.LEFT_CC.jpg   [[0. 1. 0. 0. 0. 0. 0. 0. 0. 0.]]  =  Cancer\n",
            "CLAHE_Resized_A_1820_1.LEFT_CC.jpg   [[0. 1. 0. 0. 0. 0. 0. 0. 0. 0.]]  =  Cancer\n",
            "CLAHE_Resized_A_1821_1.LEFT_MLO.jpg   [[0. 1. 0. 0. 0. 0. 0. 0. 0. 0.]]  =  Cancer\n",
            "CLAHE_Resized_A_1827_1.LEFT_CC.jpg   [[0. 1. 0. 0. 0. 0. 0. 0. 0. 0.]]  =  Cancer\n",
            "CLAHE_Resized_A_1827_1.RIGHT_CC.jpg   [[0. 1. 0. 0. 0. 0. 0. 0. 0. 0.]]  =  Cancer\n",
            "CLAHE_Resized_A_1827_1.LEFT_MLO.jpg   [[1. 0. 0. 0. 0. 0. 0. 0. 0. 0.]]  =  Normal\n",
            "CLAHE_Resized_A_1827_1.RIGHT_MLO.jpg   [[0. 1. 0. 0. 0. 0. 0. 0. 0. 0.]]  =  Cancer\n",
            "CLAHE_Resized_A_1897_1.LEFT_CC.jpg   [[0. 1. 0. 0. 0. 0. 0. 0. 0. 0.]]  =  Cancer\n",
            "CLAHE_Resized_A_1895_1.RIGHT_CC.jpg   [[0. 1. 0. 0. 0. 0. 0. 0. 0. 0.]]  =  Cancer\n",
            "CLAHE_Resized_A_1895_1.RIGHT_MLO.jpg   [[0. 1. 0. 0. 0. 0. 0. 0. 0. 0.]]  =  Cancer\n",
            "CLAHE_Resized_A_1897_1.LEFT_MLO.jpg   [[1. 0. 0. 0. 0. 0. 0. 0. 0. 0.]]  =  Normal\n",
            "CLAHE_Resized_B_3020_1.RIGHT_MLO.jpg   [[0. 1. 0. 0. 0. 0. 0. 0. 0. 0.]]  =  Cancer\n",
            "CLAHE_Resized_B_3023_1.LEFT_MLO.jpg   [[0. 1. 0. 0. 0. 0. 0. 0. 0. 0.]]  =  Cancer\n",
            "CLAHE_Resized_B_3024_1.LEFT_CC.jpg   [[0. 1. 0. 0. 0. 0. 0. 0. 0. 0.]]  =  Cancer\n",
            "CLAHE_Resized_B_3020_1.RIGHT_CC.jpg   [[1.789741e-12 1.000000e+00 0.000000e+00 0.000000e+00 0.000000e+00\n",
            "  0.000000e+00 0.000000e+00 0.000000e+00 0.000000e+00 0.000000e+00]]  =  Cancer\n",
            "CLAHE_Resized_B_3024_1.LEFT_MLO.jpg   [[0. 1. 0. 0. 0. 0. 0. 0. 0. 0.]]  =  Cancer\n",
            "CLAHE_Resized_B_3024_1.RIGHT_MLO.jpg   [[0. 1. 0. 0. 0. 0. 0. 0. 0. 0.]]  =  Cancer\n",
            "CLAHE_Resized_B_3023_1.LEFT_CC.jpg   [[0. 1. 0. 0. 0. 0. 0. 0. 0. 0.]]  =  Cancer\n",
            "CLAHE_Resized_B_3024_1.RIGHT_CC.jpg   [[1. 0. 0. 0. 0. 0. 0. 0. 0. 0.]]  =  Normal\n",
            "CLAHE_Resized_D_4155_1.LEFT_CC.jpg   [[0. 1. 0. 0. 0. 0. 0. 0. 0. 0.]]  =  Cancer\n",
            "CLAHE_Resized_D_4155_1.LEFT_MLO.jpg   [[0. 1. 0. 0. 0. 0. 0. 0. 0. 0.]]  =  Cancer\n",
            "CLAHE_Resized_D_4172_1.RIGHT_CC.jpg   [[0. 1. 0. 0. 0. 0. 0. 0. 0. 0.]]  =  Cancer\n",
            "CLAHE_Resized_D_4158_1.LEFT_CC.jpg   [[0. 1. 0. 0. 0. 0. 0. 0. 0. 0.]]  =  Cancer\n",
            "CLAHE_Resized_D_4172_1.RIGHT_MLO.jpg   [[0. 1. 0. 0. 0. 0. 0. 0. 0. 0.]]  =  Cancer\n",
            "CLAHE_Resized_D_4158_1.LEFT_MLO.jpg   [[0. 1. 0. 0. 0. 0. 0. 0. 0. 0.]]  =  Cancer\n",
            "CLAHE_Resized_D_4182_1.LEFT_CC.jpg   [[0. 1. 0. 0. 0. 0. 0. 0. 0. 0.]]  =  Cancer\n",
            "CLAHE_Resized_D_4176_1.RIGHT_CC.jpg   [[0. 1. 0. 0. 0. 0. 0. 0. 0. 0.]]  =  Cancer\n",
            "CLAHE_Resized_D_4177_1.RIGHT_MLO.jpg   [[0. 1. 0. 0. 0. 0. 0. 0. 0. 0.]]  =  Cancer\n",
            "CLAHE_Resized_D_4182_1.LEFT_MLO.jpg   [[0. 1. 0. 0. 0. 0. 0. 0. 0. 0.]]  =  Cancer\n",
            "CLAHE_Resized_D_4178_1.LEFT_CC.jpg   [[0. 1. 0. 0. 0. 0. 0. 0. 0. 0.]]  =  Cancer\n",
            "CLAHE_Resized_D_4176_1.RIGHT_MLO.jpg   [[1. 0. 0. 0. 0. 0. 0. 0. 0. 0.]]  =  Normal\n",
            "CLAHE_Resized_D_4177_1.RIGHT_CC.jpg   [[0. 1. 0. 0. 0. 0. 0. 0. 0. 0.]]  =  Cancer\n",
            "CLAHE_Resized_D_4181_1.LEFT_CC.jpg   [[0. 1. 0. 0. 0. 0. 0. 0. 0. 0.]]  =  Cancer\n",
            "CLAHE_Resized_D_4178_1.LEFT_MLO.jpg   [[0. 1. 0. 0. 0. 0. 0. 0. 0. 0.]]  =  Cancer\n",
            "CLAHE_Resized_D_4181_1.LEFT_MLO.jpg   [[0. 1. 0. 0. 0. 0. 0. 0. 0. 0.]]  =  Cancer\n",
            "CLAHE_Resized_D_4175_1.RIGHT_MLO.jpg   [[0. 1. 0. 0. 0. 0. 0. 0. 0. 0.]]  =  Cancer\n",
            "CLAHE_Resized_D_4175_1.RIGHT_CC.jpg   [[0. 1. 0. 0. 0. 0. 0. 0. 0. 0.]]  =  Cancer\n",
            "CLAHE_Resized_D_4185_1.RIGHT_MLO.jpg   [[0. 1. 0. 0. 0. 0. 0. 0. 0. 0.]]  =  Cancer\n",
            "CLAHE_Resized_D_4184_1.LEFT_CC.jpg   [[0. 1. 0. 0. 0. 0. 0. 0. 0. 0.]]  =  Cancer\n",
            "CLAHE_Resized_D_4189_1.LEFT_CC.jpg   [[0. 1. 0. 0. 0. 0. 0. 0. 0. 0.]]  =  Cancer\n",
            "CLAHE_Resized_D_4184_1.LEFT_MLO.jpg   [[0. 1. 0. 0. 0. 0. 0. 0. 0. 0.]]  =  Cancer\n",
            "CLAHE_Resized_D_4193_1.LEFT_CC.jpg   [[1. 0. 0. 0. 0. 0. 0. 0. 0. 0.]]  =  Normal\n",
            "CLAHE_Resized_D_4192_1.RIGHT_MLO.jpg   [[1. 0. 0. 0. 0. 0. 0. 0. 0. 0.]]  =  Normal\n",
            "CLAHE_Resized_D_4192_1.RIGHT_CC.jpg   [[4.3375517e-26 1.0000000e+00 0.0000000e+00 0.0000000e+00 0.0000000e+00\n",
            "  0.0000000e+00 0.0000000e+00 0.0000000e+00 0.0000000e+00 0.0000000e+00]]  =  Cancer\n",
            "CLAHE_Resized_D_4193_1.LEFT_MLO.jpg   [[0. 1. 0. 0. 0. 0. 0. 0. 0. 0.]]  =  Cancer\n",
            "CLAHE_Resized_D_4185_1.RIGHT_CC.jpg   [[0. 1. 0. 0. 0. 0. 0. 0. 0. 0.]]  =  Cancer\n",
            "CLAHE_Resized_D_4189_1.LEFT_MLO.jpg   [[0. 1. 0. 0. 0. 0. 0. 0. 0. 0.]]  =  Cancer\n",
            "CLAHE_Resized_D_4199_1.RIGHT_MLO.jpg   [[0. 1. 0. 0. 0. 0. 0. 0. 0. 0.]]  =  Cancer\n",
            "CLAHE_Resized_D_4199_1.RIGHT_CC.jpg   [[1. 0. 0. 0. 0. 0. 0. 0. 0. 0.]]  =  Normal\n",
            "Normal :  8\n",
            "Cancer :  52\n"
          ]
        }
      ],
      "source": [
        "# Initialising the CNN\n",
        "file_loc = ('/content/gdrive/My Drive/SKRIPSI/model1_CLAHE.h5')\n",
        "classifier = load_model(file_loc)\n",
        "classifier.summary()\n",
        "folder = '/content/gdrive/My Drive/SKRIPSI/Datatest/processed_image/clahe/cancer_clahe/'\n",
        "normal = 0\n",
        "cancer = 0\n",
        "\n",
        "for filename in os.listdir(folder):\n",
        "  img_pred = image.load_img(os.path.join(folder,filename), target_size = (200, 300))\n",
        "  img_pred = image.img_to_array(img_pred)\n",
        "  img_pred = np.expand_dims(img_pred, axis = 0)\n",
        "  rslt = classifier.predict(img_pred)\n",
        " \n",
        "    #ind = training_set.class_indices\n",
        " \n",
        "  if rslt[0][0] == 1:\n",
        "    prediction = \"Normal\"\n",
        "    normal+=1\n",
        "  else:\n",
        "    prediction = \"Cancer\"\n",
        "    cancer+=1\n",
        "  print(filename, \" \", rslt, \" = \", prediction)\n",
        " \n",
        "print('Normal : ', normal)\n",
        "print('Cancer : ', cancer)"
      ]
    },
    {
      "cell_type": "code",
      "execution_count": null,
      "metadata": {
        "colab": {
          "base_uri": "https://localhost:8080/"
        },
        "id": "AhkUJ_DoVX-o",
        "outputId": "772dc643-89cc-49da-aca3-6568d31c904f"
      },
      "outputs": [
        {
          "output_type": "stream",
          "name": "stdout",
          "text": [
            "Model: \"sequential\"\n",
            "_________________________________________________________________\n",
            "Layer (type)                 Output Shape              Param #   \n",
            "=================================================================\n",
            "conv2d (Conv2D)              (None, 198, 298, 64)      1792      \n",
            "_________________________________________________________________\n",
            "max_pooling2d (MaxPooling2D) (None, 99, 149, 64)       0         \n",
            "_________________________________________________________________\n",
            "conv2d_1 (Conv2D)            (None, 97, 147, 64)       36928     \n",
            "_________________________________________________________________\n",
            "max_pooling2d_1 (MaxPooling2 (None, 48, 73, 64)        0         \n",
            "_________________________________________________________________\n",
            "flatten (Flatten)            (None, 224256)            0         \n",
            "_________________________________________________________________\n",
            "dense (Dense)                (None, 128)               28704896  \n",
            "_________________________________________________________________\n",
            "dense_1 (Dense)              (None, 10)                1290      \n",
            "=================================================================\n",
            "Total params: 28,744,906\n",
            "Trainable params: 28,744,906\n",
            "Non-trainable params: 0\n",
            "_________________________________________________________________\n",
            "[[0. 1. 0. 0. 0. 0. 0. 0. 0. 0.]]  =  Cancer\n",
            "[[0. 1. 0. 0. 0. 0. 0. 0. 0. 0.]]  =  Cancer\n",
            "[[0. 1. 0. 0. 0. 0. 0. 0. 0. 0.]]  =  Cancer\n",
            "[[0. 1. 0. 0. 0. 0. 0. 0. 0. 0.]]  =  Cancer\n",
            "[[0. 1. 0. 0. 0. 0. 0. 0. 0. 0.]]  =  Cancer\n",
            "[[0. 1. 0. 0. 0. 0. 0. 0. 0. 0.]]  =  Cancer\n",
            "[[0. 1. 0. 0. 0. 0. 0. 0. 0. 0.]]  =  Cancer\n",
            "[[0. 1. 0. 0. 0. 0. 0. 0. 0. 0.]]  =  Cancer\n",
            "[[0. 1. 0. 0. 0. 0. 0. 0. 0. 0.]]  =  Cancer\n",
            "[[0. 1. 0. 0. 0. 0. 0. 0. 0. 0.]]  =  Cancer\n",
            "[[0. 1. 0. 0. 0. 0. 0. 0. 0. 0.]]  =  Cancer\n",
            "[[0. 1. 0. 0. 0. 0. 0. 0. 0. 0.]]  =  Cancer\n",
            "[[0. 1. 0. 0. 0. 0. 0. 0. 0. 0.]]  =  Cancer\n",
            "[[0. 1. 0. 0. 0. 0. 0. 0. 0. 0.]]  =  Cancer\n",
            "[[0. 1. 0. 0. 0. 0. 0. 0. 0. 0.]]  =  Cancer\n",
            "[[0. 1. 0. 0. 0. 0. 0. 0. 0. 0.]]  =  Cancer\n",
            "[[0. 1. 0. 0. 0. 0. 0. 0. 0. 0.]]  =  Cancer\n",
            "[[0. 1. 0. 0. 0. 0. 0. 0. 0. 0.]]  =  Cancer\n",
            "[[0. 1. 0. 0. 0. 0. 0. 0. 0. 0.]]  =  Cancer\n",
            "[[0. 1. 0. 0. 0. 0. 0. 0. 0. 0.]]  =  Cancer\n",
            "[[0. 1. 0. 0. 0. 0. 0. 0. 0. 0.]]  =  Cancer\n",
            "[[0. 1. 0. 0. 0. 0. 0. 0. 0. 0.]]  =  Cancer\n",
            "[[0. 1. 0. 0. 0. 0. 0. 0. 0. 0.]]  =  Cancer\n",
            "[[0. 1. 0. 0. 0. 0. 0. 0. 0. 0.]]  =  Cancer\n",
            "[[0. 1. 0. 0. 0. 0. 0. 0. 0. 0.]]  =  Cancer\n",
            "[[0. 1. 0. 0. 0. 0. 0. 0. 0. 0.]]  =  Cancer\n",
            "[[0. 1. 0. 0. 0. 0. 0. 0. 0. 0.]]  =  Cancer\n",
            "[[0. 1. 0. 0. 0. 0. 0. 0. 0. 0.]]  =  Cancer\n",
            "[[0. 1. 0. 0. 0. 0. 0. 0. 0. 0.]]  =  Cancer\n",
            "[[0. 1. 0. 0. 0. 0. 0. 0. 0. 0.]]  =  Cancer\n",
            "[[0. 1. 0. 0. 0. 0. 0. 0. 0. 0.]]  =  Cancer\n",
            "[[0. 1. 0. 0. 0. 0. 0. 0. 0. 0.]]  =  Cancer\n",
            "[[0. 1. 0. 0. 0. 0. 0. 0. 0. 0.]]  =  Cancer\n",
            "[[0. 1. 0. 0. 0. 0. 0. 0. 0. 0.]]  =  Cancer\n",
            "[[0. 1. 0. 0. 0. 0. 0. 0. 0. 0.]]  =  Cancer\n",
            "[[0. 1. 0. 0. 0. 0. 0. 0. 0. 0.]]  =  Cancer\n",
            "[[0. 1. 0. 0. 0. 0. 0. 0. 0. 0.]]  =  Cancer\n",
            "[[0. 1. 0. 0. 0. 0. 0. 0. 0. 0.]]  =  Cancer\n",
            "[[0. 1. 0. 0. 0. 0. 0. 0. 0. 0.]]  =  Cancer\n",
            "[[0. 1. 0. 0. 0. 0. 0. 0. 0. 0.]]  =  Cancer\n",
            "[[0. 1. 0. 0. 0. 0. 0. 0. 0. 0.]]  =  Cancer\n",
            "[[0. 1. 0. 0. 0. 0. 0. 0. 0. 0.]]  =  Cancer\n",
            "[[0. 1. 0. 0. 0. 0. 0. 0. 0. 0.]]  =  Cancer\n",
            "[[0. 1. 0. 0. 0. 0. 0. 0. 0. 0.]]  =  Cancer\n",
            "[[0. 1. 0. 0. 0. 0. 0. 0. 0. 0.]]  =  Cancer\n",
            "[[0. 1. 0. 0. 0. 0. 0. 0. 0. 0.]]  =  Cancer\n",
            "[[0. 1. 0. 0. 0. 0. 0. 0. 0. 0.]]  =  Cancer\n",
            "[[0. 1. 0. 0. 0. 0. 0. 0. 0. 0.]]  =  Cancer\n",
            "[[0. 1. 0. 0. 0. 0. 0. 0. 0. 0.]]  =  Cancer\n",
            "[[0. 1. 0. 0. 0. 0. 0. 0. 0. 0.]]  =  Cancer\n",
            "[[0. 1. 0. 0. 0. 0. 0. 0. 0. 0.]]  =  Cancer\n",
            "[[0. 1. 0. 0. 0. 0. 0. 0. 0. 0.]]  =  Cancer\n",
            "[[0. 1. 0. 0. 0. 0. 0. 0. 0. 0.]]  =  Cancer\n",
            "[[0. 1. 0. 0. 0. 0. 0. 0. 0. 0.]]  =  Cancer\n",
            "[[0. 1. 0. 0. 0. 0. 0. 0. 0. 0.]]  =  Cancer\n",
            "[[0. 1. 0. 0. 0. 0. 0. 0. 0. 0.]]  =  Cancer\n",
            "[[0. 1. 0. 0. 0. 0. 0. 0. 0. 0.]]  =  Cancer\n",
            "[[7.0743325e-25 1.0000000e+00 0.0000000e+00 0.0000000e+00 0.0000000e+00\n",
            "  0.0000000e+00 0.0000000e+00 0.0000000e+00 0.0000000e+00 0.0000000e+00]]  =  Cancer\n",
            "[[0. 1. 0. 0. 0. 0. 0. 0. 0. 0.]]  =  Cancer\n",
            "[[2.270648e-36 1.000000e+00 0.000000e+00 0.000000e+00 0.000000e+00\n",
            "  0.000000e+00 0.000000e+00 0.000000e+00 0.000000e+00 0.000000e+00]]  =  Cancer\n",
            "Normal :  0\n",
            "Cancer :  60\n"
          ]
        }
      ],
      "source": [
        "# Initialising the CNN\n",
        "file_loc = ('/content/gdrive/My Drive/SKRIPSI/model1_CLAHE.h5')\n",
        "classifier = load_model(file_loc)\n",
        "classifier.summary()\n",
        "folder = '/content/gdrive/My Drive/SKRIPSI/Datatest/processed_image/clahe/normal_clahe/'\n",
        "normal = 0\n",
        "cancer = 0\n",
        "\n",
        "for filename in os.listdir(folder):\n",
        "  img_pred = image.load_img(os.path.join(folder,filename), target_size = (200, 300))\n",
        "  img_pred = image.img_to_array(img_pred)\n",
        "  img_pred = np.expand_dims(img_pred, axis = 0)\n",
        "  rslt = classifier.predict(img_pred)\n",
        " \n",
        "    #ind = training_set.class_indices\n",
        " \n",
        "  if rslt[0][0] == 1:\n",
        "    prediction = \"Normal\"\n",
        "    normal+=1\n",
        "  else:\n",
        "    prediction = \"Cancer\"\n",
        "    cancer+=1\n",
        "  print(rslt, \" = \", prediction)\n",
        " \n",
        "print('Normal : ', normal)\n",
        "print('Cancer : ', cancer)"
      ]
    },
    {
      "cell_type": "markdown",
      "metadata": {
        "id": "x4GQsnTbZu5m"
      },
      "source": [
        "# Fail code"
      ]
    },
    {
      "cell_type": "code",
      "execution_count": null,
      "metadata": {
        "id": "UeGTnISglw7Y"
      },
      "outputs": [],
      "source": [
        "# Building Model 1\n",
        "classifier = Sequential()\n",
        "classifier.add(Conv2D(32, ( 3, 3 ), input_shape = (200, 300, 3), activation= 'relu'))\n",
        "classifier.add(MaxPooling2D(pool_size=(2,2)))\n",
        "classifier.add(Flatten())\n",
        "classifier.add(Dense(units=128, activation='relu'))\n",
        "classifier.add(Dense(units=1, activation='sigmoid'))\n",
        "classifier.compile(optimizer='adam', loss='binary_crossentropy', metrics = ['accuracy '])"
      ]
    },
    {
      "cell_type": "code",
      "execution_count": null,
      "metadata": {
        "id": "elC608Z9rkO-"
      },
      "outputs": [],
      "source": [
        "# Fitting Images with CNN\n",
        "train_datagen = ImageDataGenerator(rescale= 1./255, shear_range= 0.2, zoom_range= 0.2, horizontal_flip= True)\n",
        "test_datagen = ImageDataGenerator(rescale= 1./255)\n",
        "\n",
        "training_set = train_datagen.flow_from_directory('/content/gdrive/My Drive/SKRIPSI/Dataset/cnn_1/train',\n",
        "target_size = (200,300),\n",
        "batch_size = 32,\n",
        "class_mode = 'binary')\n",
        "\n",
        "test_set = test_datagen.flow_from_directory('/content/gdrive/My Drive/SKRIPSI/Dataset/cnn_1/val',\n",
        "target_size = (200,300),\n",
        "batch_size = 32,\n",
        "class_mode = 'binary')\n",
        "\n",
        "#classifier.fit(\n",
        "#    training_set,\n",
        "#    batch_size = 64,\n",
        "#    epochs = 10,\n",
        "#    steps_per_epoch = 80,\n",
        "#    validation_data = test_set\n",
        "    #validation_steps=46\n",
        "#)\n",
        "\n",
        "classifier.fit(\n",
        "    training_set,\n",
        "    #steps_per_epoch = int(600/32),\n",
        "    epochs = 10,\n",
        "    validation_data = test_set\n",
        "    #validation_steps = int(120/32)\n",
        ")"
      ]
    }
  ],
  "metadata": {
    "colab": {
      "collapsed_sections": [
        "U7_0AvA_Yjiy",
        "VyEig5I9YWzF",
        "G4pLwxiId5FJ",
        "0bGkpNkgTnpR",
        "x4GQsnTbZu5m"
      ],
      "provenance": [],
      "authorship_tag": "ABX9TyNqrMw4QHn2HvqkhiyfY/Ot",
      "include_colab_link": true
    },
    "kernelspec": {
      "display_name": "Python 3",
      "name": "python3"
    },
    "language_info": {
      "name": "python"
    }
  },
  "nbformat": 4,
  "nbformat_minor": 0
}